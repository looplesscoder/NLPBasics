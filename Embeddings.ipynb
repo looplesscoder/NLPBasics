{
  "nbformat": 4,
  "nbformat_minor": 0,
  "metadata": {
    "colab": {
      "provenance": []
    },
    "kernelspec": {
      "name": "python3",
      "display_name": "Python 3"
    },
    "language_info": {
      "name": "python"
    }
  },
  "cells": [
    {
      "cell_type": "code",
      "source": [
        "import numpy as np\n",
        "from numpy import array\n",
        "from keras.preprocessing.text import Tokenizer #for text tokenization\n",
        "from keras.preprocessing.sequence import pad_sequences\n",
        "from keras.layers import Embedding\n",
        "from keras.models import Sequential\n",
        "from keras.layers import Dense\n",
        "from keras.layers import Flatten"
      ],
      "metadata": {
        "id": "vMujWzY8rJwf"
      },
      "execution_count": 25,
      "outputs": []
    },
    {
      "cell_type": "code",
      "source": [
        "docs = ['Well done!',\n",
        " 'Good work',\n",
        " 'Great effort',\n",
        " 'nice work',\n",
        " 'Excellent!',\n",
        " 'Weak',\n",
        " 'Poor effort!',\n",
        " 'not good',\n",
        " 'poor work',\n",
        " 'Could have done better.']\n",
        "# define class labels\n",
        "labels = array([1,1,1,1,1,0,0,0,0,0])"
      ],
      "metadata": {
        "id": "5QndtF5arRcb"
      },
      "execution_count": 3,
      "outputs": []
    },
    {
      "cell_type": "markdown",
      "source": [
        "Using PreTrained Glove Embedding"
      ],
      "metadata": {
        "id": "GCuGFWSIrZ2m"
      }
    },
    {
      "cell_type": "code",
      "source": [
        "# prepare tokenizer\n",
        "t = Tokenizer()\n",
        "t.fit_on_texts(docs)\n",
        "vocab_size = len(t.word_index) + 1"
      ],
      "metadata": {
        "id": "JhIK-fdXrfMN"
      },
      "execution_count": 5,
      "outputs": []
    },
    {
      "cell_type": "code",
      "source": [
        "print(vocab_size)"
      ],
      "metadata": {
        "colab": {
          "base_uri": "https://localhost:8080/"
        },
        "id": "07N4gmUZr7o3",
        "outputId": "17c717f4-f107-4034-90c5-5acccbcec6e6"
      },
      "execution_count": 6,
      "outputs": [
        {
          "output_type": "stream",
          "name": "stdout",
          "text": [
            "15\n"
          ]
        }
      ]
    },
    {
      "cell_type": "code",
      "source": [
        "# integer encode the documents\n",
        "encoded_docs = t.texts_to_sequences(docs)"
      ],
      "metadata": {
        "id": "qU9CiZm8sDLx"
      },
      "execution_count": 7,
      "outputs": []
    },
    {
      "cell_type": "code",
      "source": [
        "print(encoded_docs)"
      ],
      "metadata": {
        "colab": {
          "base_uri": "https://localhost:8080/"
        },
        "id": "tV07n3hBsL7Z",
        "outputId": "d0f37230-5fc8-418e-dfc6-0844cbc79192"
      },
      "execution_count": 8,
      "outputs": [
        {
          "output_type": "stream",
          "name": "stdout",
          "text": [
            "[[6, 2], [3, 1], [7, 4], [8, 1], [9], [10], [5, 4], [11, 3], [5, 1], [12, 13, 2, 14]]\n"
          ]
        }
      ]
    },
    {
      "cell_type": "code",
      "source": [
        "# pad documents to a max length of 4 words\n",
        "max_length = 4\n",
        "padded_docs = pad_sequences(encoded_docs, maxlen=max_length, padding='post')\n",
        "print(padded_docs)"
      ],
      "metadata": {
        "colab": {
          "base_uri": "https://localhost:8080/"
        },
        "id": "5FZjcAZZsZ7v",
        "outputId": "45ec5462-4ad9-45d9-9a7b-0029003c3b40"
      },
      "execution_count": 12,
      "outputs": [
        {
          "output_type": "stream",
          "name": "stdout",
          "text": [
            "[[ 6  2  0  0]\n",
            " [ 3  1  0  0]\n",
            " [ 7  4  0  0]\n",
            " [ 8  1  0  0]\n",
            " [ 9  0  0  0]\n",
            " [10  0  0  0]\n",
            " [ 5  4  0  0]\n",
            " [11  3  0  0]\n",
            " [ 5  1  0  0]\n",
            " [12 13  2 14]]\n"
          ]
        }
      ]
    },
    {
      "cell_type": "code",
      "source": [
        "# load the whole embedding into memory\n",
        "embeddings_index = dict()\n",
        "f = open('glove.6B.100d.txt')\n",
        "for line in f:\n",
        "\tvalues = line.split()\n",
        "\tword = values[0]\n",
        "\tcoefs = np.asarray(values[1:], dtype='float32')\n",
        "\tembeddings_index[word] = coefs\n",
        "f.close()\n",
        "print('Loaded %s word vectors.' % len(embeddings_index))\n",
        "\n",
        "embeddings_index"
      ],
      "metadata": {
        "colab": {
          "base_uri": "https://localhost:8080/"
        },
        "id": "3TtppAHlsljn",
        "outputId": "e38b3667-7a45-469f-91c1-66efae935695"
      },
      "execution_count": 15,
      "outputs": [
        {
          "output_type": "stream",
          "name": "stdout",
          "text": [
            "Loaded 7341 word vectors.\n"
          ]
        }
      ]
    },
    {
      "cell_type": "code",
      "source": [
        "count = 0\n",
        "for key, value in embeddings_index.items():\n",
        "    if count < 5:\n",
        "        print(f'{key}: {value}')\n",
        "        count += 1\n",
        "    else:\n",
        "        break"
      ],
      "metadata": {
        "colab": {
          "base_uri": "https://localhost:8080/"
        },
        "id": "BpfCt-LEvpZb",
        "outputId": "8c673f5c-8b17-4060-b80d-83c83d3f5240"
      },
      "execution_count": 16,
      "outputs": [
        {
          "output_type": "stream",
          "name": "stdout",
          "text": [
            "the: [-0.038194 -0.24487   0.72812  -0.39961   0.083172  0.043953 -0.39141\n",
            "  0.3344   -0.57545   0.087459  0.28787  -0.06731   0.30906  -0.26384\n",
            " -0.13231  -0.20757   0.33395  -0.33848  -0.31743  -0.48336   0.1464\n",
            " -0.37304   0.34577   0.052041  0.44946  -0.46971   0.02628  -0.54155\n",
            " -0.15518  -0.14107  -0.039722  0.28277   0.14393   0.23464  -0.31021\n",
            "  0.086173  0.20397   0.52624   0.17164  -0.082378 -0.71787  -0.41531\n",
            "  0.20335  -0.12763   0.41367   0.55187   0.57908  -0.33477  -0.36559\n",
            " -0.54857  -0.062892  0.26584   0.30205   0.99775  -0.80481  -3.0243\n",
            "  0.01254  -0.36942   2.2167    0.72201  -0.24978   0.92136   0.034514\n",
            "  0.46745   1.1079   -0.19358  -0.074575  0.23353  -0.052062 -0.22044\n",
            "  0.057162 -0.15806  -0.30798  -0.41625   0.37972   0.15006  -0.53212\n",
            " -0.2055   -1.2526    0.071624  0.70565   0.49744  -0.42063   0.26148\n",
            " -1.538    -0.30223  -0.073438 -0.28312   0.37104  -0.25217   0.016215\n",
            " -0.017099 -0.38984   0.87424  -0.72569  -0.51058  -0.52028  -0.1459\n",
            "  0.8278    0.27062 ]\n",
            ",: [-0.10767    0.11053    0.59812   -0.54361    0.67396    0.10663\n",
            "  0.038867   0.35481    0.06351   -0.094189   0.15786   -0.81665\n",
            "  0.14172    0.21939    0.58505   -0.52158    0.22783   -0.16642\n",
            " -0.68228    0.3587     0.42568    0.19021    0.91963    0.57555\n",
            "  0.46185    0.42363   -0.095399  -0.42749   -0.16567   -0.056842\n",
            " -0.29595    0.26037   -0.26606   -0.070404  -0.27662    0.15821\n",
            "  0.69825    0.43081    0.27952   -0.45437   -0.33801   -0.58184\n",
            "  0.22364   -0.5778    -0.26862   -0.20425    0.56394   -0.58524\n",
            " -0.14365   -0.64218    0.0054697 -0.35248    0.16162    1.1796\n",
            " -0.47674   -2.7553    -0.1321    -0.047729   1.0655     1.1034\n",
            " -0.2208     0.18669    0.13177    0.15117    0.7131    -0.35215\n",
            "  0.91348    0.61783    0.70992    0.23955   -0.14571   -0.37859\n",
            " -0.045959  -0.47368    0.2385     0.20536   -0.18996    0.32507\n",
            " -1.1112    -0.36341    0.98679   -0.084776  -0.54008    0.11726\n",
            " -1.0194    -0.24424    0.12771    0.013884   0.080374  -0.35414\n",
            "  0.34951   -0.7226     0.37549    0.4441    -0.99059    0.61214\n",
            " -0.35111   -0.83155    0.45293    0.082577 ]\n",
            ".: [-0.33979    0.20941    0.46348   -0.64792   -0.38377    0.038034\n",
            "  0.17127    0.15978    0.46619   -0.019169   0.41479   -0.34349\n",
            "  0.26872    0.04464    0.42131   -0.41032    0.15459    0.022239\n",
            " -0.64653    0.25256    0.043136  -0.19445    0.46516    0.45651\n",
            "  0.68588    0.091295   0.21875   -0.70351    0.16785   -0.35079\n",
            " -0.12634    0.66384   -0.2582     0.036542  -0.13605    0.40253\n",
            "  0.14289    0.38132   -0.12283   -0.45886   -0.25282   -0.30432\n",
            " -0.11215   -0.26182   -0.22482   -0.44554    0.2991    -0.85612\n",
            " -0.14503   -0.49086    0.0082973 -0.17491    0.27524    1.4401\n",
            " -0.21239   -2.8435    -0.27958   -0.45722    1.6386     0.78808\n",
            " -0.55262    0.65       0.086426   0.39012    1.0632    -0.35379\n",
            "  0.48328    0.346      0.84174    0.098707  -0.24213   -0.27053\n",
            "  0.045287  -0.40147    0.11395    0.0062226  0.036673   0.018518\n",
            " -1.0213    -0.20806    0.64072   -0.068763  -0.58635    0.33476\n",
            " -1.1432    -0.1148    -0.25091   -0.45907   -0.096819  -0.17946\n",
            " -0.063351  -0.67412   -0.068895   0.53604   -0.87773    0.31802\n",
            " -0.39242   -0.23394    0.47298   -0.028803 ]\n",
            "of: [-0.1529   -0.24279   0.89837   0.16996   0.53516   0.48784  -0.58826\n",
            " -0.17982  -1.3581    0.42541   0.15377   0.24215   0.13474   0.41193\n",
            "  0.67043  -0.56418   0.42985  -0.012183 -0.11677   0.31781   0.054177\n",
            " -0.054273  0.35516  -0.30241   0.31434  -0.33846   0.71715  -0.26855\n",
            " -0.15837  -0.47467   0.051581 -0.33252   0.15003  -0.1299   -0.54617\n",
            " -0.37843   0.64261   0.82187  -0.080006  0.078479 -0.96976  -0.57741\n",
            "  0.56491  -0.39873  -0.057099  0.19743   0.065706 -0.48092  -0.20125\n",
            " -0.40834   0.39456  -0.02642  -0.11838   1.012    -0.53171  -2.7474\n",
            " -0.042981 -0.74849   1.7574    0.59085   0.04885   0.78267   0.38497\n",
            "  0.42097   0.67882   0.10337   0.6328   -0.026595  0.58647  -0.44332\n",
            "  0.33057  -0.12022  -0.55645   0.073611  0.20915   0.43395  -0.012761\n",
            "  0.089874 -1.7991    0.084808  0.77112   0.63105  -0.90685   0.60326\n",
            " -1.7515    0.18596  -0.50687  -0.70203   0.66578  -0.81304   0.18712\n",
            " -0.018488 -0.26757   0.727    -0.59363  -0.34839  -0.56094  -0.591\n",
            "  1.0039    0.20664 ]\n",
            "to: [-1.8970e-01  5.0024e-02  1.9084e-01 -4.9184e-02 -8.9737e-02  2.1006e-01\n",
            " -5.4952e-01  9.8377e-02 -2.0135e-01  3.4241e-01 -9.2677e-02  1.6100e-01\n",
            " -1.3268e-01 -2.8160e-01  1.8737e-01 -4.2959e-01  9.6039e-01  1.3972e-01\n",
            " -1.0781e+00  4.0518e-01  5.0539e-01 -5.5064e-01  4.8440e-01  3.8044e-01\n",
            " -2.9055e-03 -3.4942e-01 -9.9696e-02 -7.8368e-01  1.0363e+00 -2.3140e-01\n",
            " -4.7121e-01  5.7126e-01 -2.1454e-01  3.5958e-01 -4.8319e-01  1.0875e+00\n",
            "  2.8524e-01  1.2447e-01 -3.9248e-02 -7.6732e-02 -7.6343e-01 -3.2409e-01\n",
            " -5.7490e-01 -1.0893e+00 -4.1811e-01  4.5120e-01  1.2112e-01 -5.1367e-01\n",
            " -1.3349e-01 -1.1378e+00 -2.8768e-01  1.6774e-01  5.5804e-01  1.5387e+00\n",
            "  1.8859e-02 -2.9721e+00 -2.4216e-01 -9.2495e-01  2.1992e+00  2.8234e-01\n",
            " -3.4780e-01  5.1621e-01 -4.3387e-01  3.6852e-01  7.4573e-01  7.2102e-02\n",
            "  2.7931e-01  9.2569e-01 -5.0336e-02 -8.5856e-01 -1.3580e-01 -9.2551e-01\n",
            " -3.3991e-01 -1.0394e+00 -6.7203e-02 -2.1379e-01 -4.7690e-01  2.1377e-01\n",
            " -8.4008e-01  5.2536e-02  5.9298e-01  2.9604e-01 -6.7644e-01  1.3916e-01\n",
            " -1.5504e+00 -2.0765e-01  7.2220e-01  5.2056e-01 -7.6221e-02 -1.5194e-01\n",
            " -1.3134e-01  5.8617e-02 -3.1869e-01 -6.1419e-01 -6.2393e-01 -4.1548e-01\n",
            " -3.8175e-02 -3.9804e-01  4.7647e-01 -1.5983e-01]\n"
          ]
        }
      ]
    },
    {
      "cell_type": "code",
      "source": [
        "# create a weight matrix for words in training docs\n",
        "embedding_matrix = np.zeros((vocab_size, 100))\n",
        "for word, i in t.word_index.items():\n",
        "\tembedding_vector = embeddings_index.get(word)\n",
        "\tif embedding_vector is not None:\n",
        "\t\tembedding_matrix[i] = embedding_vector"
      ],
      "metadata": {
        "id": "kzGwUwcLv4fv"
      },
      "execution_count": 18,
      "outputs": []
    },
    {
      "cell_type": "code",
      "source": [
        "print(embedding_matrix)"
      ],
      "metadata": {
        "colab": {
          "base_uri": "https://localhost:8080/"
        },
        "id": "1dVC5QvCwA3C",
        "outputId": "b0d0f0dd-230d-4427-b857-998696d09bd4"
      },
      "execution_count": 21,
      "outputs": [
        {
          "output_type": "stream",
          "name": "stdout",
          "text": [
            "[[ 0.          0.          0.         ...  0.          0.\n",
            "   0.        ]\n",
            " [-0.11619     0.45447001 -0.69216001 ... -0.54737002  0.48822001\n",
            "   0.32246   ]\n",
            " [-0.2978      0.31147    -0.14937    ... -0.22709    -0.029261\n",
            "   0.4585    ]\n",
            " ...\n",
            " [ 0.05869     0.40272999  0.38633999 ... -0.35973999  0.43718001\n",
            "   0.10121   ]\n",
            " [ 0.15711001  0.65605998  0.0021149  ... -0.60614997  0.71004999\n",
            "   0.41468999]\n",
            " [-0.047543    0.51914001  0.34283999 ... -0.26859     0.48664999\n",
            "   0.55609   ]]\n"
          ]
        }
      ]
    },
    {
      "cell_type": "markdown",
      "source": [
        "The key difference is that the embedding layer can be seeded with the GloVe word embedding weights. We chose the 100-dimensional version, therefore the Embedding layer must be defined with output_dim set to 100."
      ],
      "metadata": {
        "id": "K0Ltx87pwkGP"
      }
    },
    {
      "cell_type": "code",
      "source": [
        "e = Embedding(vocab_size, 100, weights=[embedding_matrix], input_length=4, trainable=False)"
      ],
      "metadata": {
        "id": "FXaGn6kjwlRp"
      },
      "execution_count": 24,
      "outputs": []
    },
    {
      "cell_type": "code",
      "source": [
        "# define model\n",
        "model = Sequential()\n",
        "e = Embedding(vocab_size, 100, weights=[embedding_matrix], input_length=4, trainable=False)\n",
        "model.add(e)\n",
        "model.add(Flatten())\n",
        "model.add(Dense(1, activation='sigmoid'))\n",
        "# compile the model\n",
        "model.compile(optimizer='adam', loss='binary_crossentropy', metrics=['accuracy'])\n",
        "# summarize the model\n",
        "print(model.summary())"
      ],
      "metadata": {
        "colab": {
          "base_uri": "https://localhost:8080/"
        },
        "id": "9jyS2DxQzjrw",
        "outputId": "020adfa2-195d-4e4b-a3b5-89ffbd7c2817"
      },
      "execution_count": 26,
      "outputs": [
        {
          "output_type": "stream",
          "name": "stdout",
          "text": [
            "Model: \"sequential\"\n",
            "_________________________________________________________________\n",
            " Layer (type)                Output Shape              Param #   \n",
            "=================================================================\n",
            " embedding_1 (Embedding)     (None, 4, 100)            1500      \n",
            "                                                                 \n",
            " flatten (Flatten)           (None, 400)               0         \n",
            "                                                                 \n",
            " dense (Dense)               (None, 1)                 401       \n",
            "                                                                 \n",
            "=================================================================\n",
            "Total params: 1901 (7.43 KB)\n",
            "Trainable params: 401 (1.57 KB)\n",
            "Non-trainable params: 1500 (5.86 KB)\n",
            "_________________________________________________________________\n",
            "None\n"
          ]
        }
      ]
    },
    {
      "cell_type": "code",
      "source": [
        "model.fit(padded_docs, labels, epochs=50, verbose=0)\n",
        "# evaluate the model\n",
        "loss, accuracy = model.evaluate(padded_docs, labels, verbose=0)\n",
        "print('Accuracy: %f' % (accuracy*100))"
      ],
      "metadata": {
        "colab": {
          "base_uri": "https://localhost:8080/"
        },
        "id": "0GJlkMvUzyi-",
        "outputId": "565a3f01-74fb-495f-df18-1b340e8b0703"
      },
      "execution_count": 27,
      "outputs": [
        {
          "output_type": "stream",
          "name": "stdout",
          "text": [
            "Accuracy: 100.000000\n"
          ]
        }
      ]
    }
  ]
}